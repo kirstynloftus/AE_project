{
 "cells": [
  {
   "cell_type": "code",
   "execution_count": 1,
   "id": "a01ce0c5-be00-4b68-95ce-bb0f91d8ecc5",
   "metadata": {},
   "outputs": [],
   "source": [
    "import requests\n",
    "import json"
   ]
  },
  {
   "cell_type": "code",
   "execution_count": 2,
   "id": "07e4634d-585d-417e-a3f0-17ae52833b85",
   "metadata": {},
   "outputs": [],
   "source": [
    "drug_name = \"atorvastatin\"\n",
    "base_url = \"https://api.fda.gov/drug/event.json\"\n",
    "limit = 100\n",
    "max_records = 6000\n",
    "skip = 0\n",
    "results = []"
   ]
  },
  {
   "cell_type": "code",
   "execution_count": null,
   "id": "2a66178b-5416-42a1-9bea-ca6f2620c040",
   "metadata": {},
   "outputs": [],
   "source": [
    "while len(results) < max_records:\n",
    "    print(f\"Fetching records {skip} to {skip + limit}...\")\n",
    "    \n",
    "    query = f\"{base_url}?search=patient.drug.medicinalproduct:{drug_name}&limit={limit}&skip={skip}\"\n",
    "    \n",
    "    response = requests.get(query)\n",
    "    \n",
    "    if response.status_code != 200:\n",
    "        print(f\"Error: {response.status_code}, {response.text}\")\n",
    "        break\n",
    "    \n",
    "    data = response.json()\n",
    "    fetched_results = data.get(\"results\",[])\n",
    "    results.extend(fetched_results)\n",
    "    \n",
    "    if len(fetched_results) < limit:\n",
    "        break\n",
    "    \n",
    "    skip += limit\n",
    "\n",
    "with open(f\"{drug_name}_data.json\", \"w\") as file:\n",
    "    json.dump(results[:max_records],file)\n",
    "\n",
    "print(f\"Downloaded {len(results[:max_records])} records and saved to '{drug_name}_data.json'.\")"
   ]
  },
  {
   "cell_type": "code",
   "execution_count": 16,
   "id": "a87576ac-7c98-4574-b6e7-60fd6b3a0de5",
   "metadata": {},
   "outputs": [],
   "source": [
    "import pandas as pd\n",
    "with open(f\"{drug_name}_data.json\", \"r\") as file:\n",
    "    data = json.load(file)\n",
    "\n",
    "ae_df = pd.json_normalize(data)"
   ]
  },
  {
   "cell_type": "code",
   "execution_count": 15,
   "id": "1e5d3be9-e92f-4e1e-a6a9-f46755c100f2",
   "metadata": {},
   "outputs": [],
   "source": [
    "#saving to my directory so I can use MySQL now\n",
    "ae_df.to_csv(r'C:\\Users\\kirst\\Downloads\\ae_df.csv', index = False)"
   ]
  }
 ],
 "metadata": {
  "kernelspec": {
   "display_name": "Python 3 (ipykernel)",
   "language": "python",
   "name": "python3"
  },
  "language_info": {
   "codemirror_mode": {
    "name": "ipython",
    "version": 3
   },
   "file_extension": ".py",
   "mimetype": "text/x-python",
   "name": "python",
   "nbconvert_exporter": "python",
   "pygments_lexer": "ipython3",
   "version": "3.11.7"
  }
 },
 "nbformat": 4,
 "nbformat_minor": 5
}
